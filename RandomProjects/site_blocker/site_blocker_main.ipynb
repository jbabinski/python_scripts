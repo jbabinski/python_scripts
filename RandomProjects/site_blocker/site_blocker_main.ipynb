{
 "cells": [
  {
   "cell_type": "code",
   "execution_count": 1,
   "id": "07be12d0",
   "metadata": {},
   "outputs": [
    {
     "name": "stdout",
     "output_type": "stream",
     "text": [
      "Collecting pyuac\n",
      "  Downloading pyuac-0.0.3-py2.py3-none-any.whl (11 kB)\n",
      "Collecting tee (from pyuac)\n",
      "  Downloading tee-0.0.3.tar.gz (3.1 kB)\n",
      "  Preparing metadata (setup.py): started\n",
      "  Preparing metadata (setup.py): finished with status 'done'\n",
      "Requirement already satisfied: decorator in d:\\programy\\anaconda3\\lib\\site-packages (from pyuac) (5.1.1)\n",
      "Building wheels for collected packages: tee\n",
      "  Building wheel for tee (setup.py): started\n",
      "  Building wheel for tee (setup.py): finished with status 'done'\n",
      "  Created wheel for tee: filename=tee-0.0.3-py3-none-any.whl size=3072 sha256=da4af3c889ae035904ca133ec131eae63695bcc19d08a918c85dbda4fbfaac1c\n",
      "  Stored in directory: c:\\users\\babin\\appdata\\local\\pip\\cache\\wheels\\cc\\36\\e2\\5ca533195e4c31e1ff1122893037c308a0ee46bac3b3e67fc7\n",
      "Successfully built tee\n",
      "Installing collected packages: tee, pyuac\n",
      "Successfully installed pyuac-0.0.3 tee-0.0.3\n"
     ]
    }
   ],
   "source": [
    "!pip3 install pyuac"
   ]
  },
  {
   "cell_type": "code",
   "execution_count": 37,
   "id": "c68829cf",
   "metadata": {},
   "outputs": [],
   "source": [
    "import os\n",
    "import shutil\n",
    "import logging\n",
    "import time\n",
    "import re\n",
    "\n",
    "sites_to_block = ['glogow.wroclaw.lasy.gov.pl', 'gov.pl/web/nadlesnictwo-glogow/dane-teleadresowe']\n",
    "\n",
    "# check if system file is there\n",
    "def block_sites(wait_seconds=10):\n",
    "    system_file = 'C:\\Windows\\System32\\drivers\\etc\\hosts'\n",
    "    \n",
    "    if not os.path.exists(system_file):\n",
    "        logging.error('System file not found')\n",
    "        \n",
    "    current_path = os.getcwd()\n",
    "    copy_path = current_path + '\\hosts'\n",
    "    shutil.copy(system_file, copy_path)\n",
    "    \n",
    "    # read user input\n",
    "    user_input = input(\"Gib sites separated with space. For default say USUAL \\n\")\n",
    "    if 'USUAL' in user_input:\n",
    "        sites_to_block = ['glogow.wroclaw.lasy.gov.pl', 'gov.pl/web/nadlesnictwo-glogow/dane-teleadresowe']\n",
    "    else:\n",
    "        sites_to_block = []\n",
    "    for i in user_input.split(' '):\n",
    "        sites_to_block.append(re.sub(r'(www.)|(http://www.)|(https://www.)', '', i))\n",
    "    print('Strony wczytane')\n",
    "    \n",
    "    try:\n",
    "        with open(system_file, 'a') as f:\n",
    "            for site in sites_to_block:\n",
    "                f.write(f'127.0.0.1\\t{site}\\n')\n",
    "    except PermissionError:\n",
    "        logging.error('Permission denied. Try running this script as Administrator')\n",
    "        \n",
    "    with open(system_file, 'r') as f:\n",
    "        print(f.read())\n",
    "        \n",
    "    time.sleep(wait_seconds)\n",
    "    shutil.copy(copy_path, system_file)\n",
    "    \n",
    "    print('Sites have been unblocked. Have fun')"
   ]
  },
  {
   "cell_type": "code",
   "execution_count": 29,
   "id": "fd1fab18",
   "metadata": {},
   "outputs": [
    {
     "name": "stdout",
     "output_type": "stream",
     "text": [
      "Gib sites separated with space. For default say USUAL \n",
      "www.blah.pl http://www.google.com\n",
      "['blah.pl', 'google.com']\n"
     ]
    }
   ],
   "source": [
    "a = input(\"Gib sites separated with space. For default say USUAL \\n\")\n",
    "\n",
    "# a = www.blah.pl http://www.glogow.wroclaw.lasy.gov.pl\n",
    "\n",
    "if 'USUAL' in user_input:\n",
    "    sites_to_block = ['glogow.wroclaw.lasy.gov.pl', 'gov.pl/web/nadlesnictwo-glogow/dane-teleadresowe']\n",
    "else:\n",
    "    sites_to_block = []\n",
    "for i in user_input.split(' '):\n",
    "    sites_to_block.append(re.sub(r'(www.)|(http://www.)|(https://www.)', '', i))\n",
    "print(sites_to_block)"
   ]
  },
  {
   "cell_type": "code",
   "execution_count": 38,
   "id": "a61878b1",
   "metadata": {
    "scrolled": true
   },
   "outputs": [
    {
     "name": "stdout",
     "output_type": "stream",
     "text": [
      "Gib sites separated with space. For default say USUAL \n",
      "www.blah.pl http://www.glogow.wroclaw.lasy.gov.pl\n",
      "Strony wczytane\n",
      "# Copyright (c) 1993-2009 Microsoft Corp.\n",
      "#\n",
      "# This is a sample HOSTS file used by Microsoft TCP/IP for Windows.\n",
      "#\n",
      "# This file contains the mappings of IP addresses to host names. Each\n",
      "# entry should be kept on an individual line. The IP address should\n",
      "# be placed in the first column followed by the corresponding host name.\n",
      "# The IP address and the host name should be separated by at least one\n",
      "# space.\n",
      "#\n",
      "# Additionally, comments (such as these) may be inserted on individual\n",
      "# lines or following the machine name denoted by a '#' symbol.\n",
      "#\n",
      "# For example:\n",
      "#\n",
      "#      102.54.94.97     rhino.acme.com          # source server\n",
      "#       38.25.63.10     x.acme.com              # x client host\n",
      "\n",
      "# localhost name resolution is handled within DNS itself.\n",
      "#\t127.0.0.1       localhost\n",
      "#\t::1             localhost\n",
      "127.0.0.1\tblah.pl\n",
      "127.0.0.1\tglogow.wroclaw.lasy.gov.pl\n",
      "\n",
      "Sites have been unblocked. Have fun\n"
     ]
    }
   ],
   "source": [
    "block_sites(10)"
   ]
  },
  {
   "cell_type": "code",
   "execution_count": 62,
   "id": "571dcd08",
   "metadata": {},
   "outputs": [
    {
     "name": "stdout",
     "output_type": "stream",
     "text": [
      "127.0.0.1\tblad\n"
     ]
    }
   ],
   "source": [
    "print('127.0.0.1\\t')"
   ]
  },
  {
   "cell_type": "code",
   "execution_count": 3,
   "id": "73ef39c7",
   "metadata": {},
   "outputs": [
    {
     "data": {
      "text/plain": [
       "'C:\\\\Windows\\\\System32\\\\drivers\\\\etc\\\\hosts'"
      ]
     },
     "execution_count": 3,
     "metadata": {},
     "output_type": "execute_result"
    }
   ],
   "source": [
    "shutil.copy(copy_path, system_file)\n",
    "# os.listdir(current_path) # list items within path\n",
    "# print('\\\\'.join(current_path.split('\\\\'))) #print path wo x places"
   ]
  },
  {
   "cell_type": "code",
   "execution_count": 63,
   "id": "9f8e2f38",
   "metadata": {},
   "outputs": [
    {
     "name": "stdout",
     "output_type": "stream",
     "text": [
      "# Copyright (c) 1993-2009 Microsoft Corp.\n",
      "#\n",
      "# This is a sample HOSTS file used by Microsoft TCP/IP for Windows.\n",
      "#\n",
      "# This file contains the mappings of IP addresses to host names. Each\n",
      "# entry should be kept on an individual line. The IP address should\n",
      "# be placed in the first column followed by the corresponding host name.\n",
      "# The IP address and the host name should be separated by at least one\n",
      "# space.\n",
      "#\n",
      "# Additionally, comments (such as these) may be inserted on individual\n",
      "# lines or following the machine name denoted by a '#' symbol.\n",
      "#\n",
      "# For example:\n",
      "#\n",
      "#      102.54.94.97     rhino.acme.com          # source server\n",
      "#       38.25.63.10     x.acme.com              # x client host\n",
      "\n",
      "# localhost name resolution is handled within DNS itself.\n",
      "#\t127.0.0.1       localhost\n",
      "#\t::1             localhost\n",
      "\n"
     ]
    }
   ],
   "source": [
    "with open('C:\\Windows\\System32\\drivers\\etc\\hosts', 'a') as f:\n",
    "    print(f.read())"
   ]
  }
 ],
 "metadata": {
  "kernelspec": {
   "display_name": "Python 3 (ipykernel)",
   "language": "python",
   "name": "python3"
  },
  "language_info": {
   "codemirror_mode": {
    "name": "ipython",
    "version": 3
   },
   "file_extension": ".py",
   "mimetype": "text/x-python",
   "name": "python",
   "nbconvert_exporter": "python",
   "pygments_lexer": "ipython3",
   "version": "3.11.5"
  }
 },
 "nbformat": 4,
 "nbformat_minor": 5
}
