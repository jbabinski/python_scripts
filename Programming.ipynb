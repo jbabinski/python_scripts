{
 "cells": [
  {
   "cell_type": "code",
   "execution_count": 7,
   "id": "0df95d22",
   "metadata": {},
   "outputs": [],
   "source": [
    "class Animal:\n",
    "    def __init__(self, specie, name):\n",
    "        self.name=name\n",
    "        self.species=species"
   ]
  },
  {
   "cell_type": "code",
   "execution_count": 1,
   "id": "0c71008f",
   "metadata": {},
   "outputs": [
    {
     "name": "stdout",
     "output_type": "stream",
     "text": [
      "Collecting steam\n",
      "  Downloading steam-1.2.0.tar.gz (410 kB)\n",
      "Requirement already satisfied: six>=1.10 in e:\\programs\\anaconda3\\lib\\site-packages (from steam) (1.16.0)\n",
      "Collecting pycryptodomex>=3.7.0\n",
      "  Downloading pycryptodomex-3.13.0-cp35-abi3-win_amd64.whl (1.8 MB)\n",
      "Requirement already satisfied: requests>=2.9.1 in e:\\programs\\anaconda3\\lib\\site-packages (from steam) (2.26.0)\n",
      "Collecting vdf>=3.3\n",
      "  Downloading vdf-3.4-py2.py3-none-any.whl (10 kB)\n",
      "Collecting cachetools>=3.0.0\n",
      "  Downloading cachetools-5.0.0-py3-none-any.whl (9.1 kB)\n",
      "Requirement already satisfied: idna<4,>=2.5 in e:\\programs\\anaconda3\\lib\\site-packages (from requests>=2.9.1->steam) (3.2)\n",
      "Requirement already satisfied: certifi>=2017.4.17 in e:\\programs\\anaconda3\\lib\\site-packages (from requests>=2.9.1->steam) (2021.10.8)\n",
      "Requirement already satisfied: charset-normalizer~=2.0.0 in e:\\programs\\anaconda3\\lib\\site-packages (from requests>=2.9.1->steam) (2.0.4)\n",
      "Requirement already satisfied: urllib3<1.27,>=1.21.1 in e:\\programs\\anaconda3\\lib\\site-packages (from requests>=2.9.1->steam) (1.26.7)\n",
      "Building wheels for collected packages: steam\n",
      "  Building wheel for steam (setup.py): started\n",
      "  Building wheel for steam (setup.py): finished with status 'done'\n",
      "  Created wheel for steam: filename=steam-1.2.0-py3-none-any.whl size=450022 sha256=a57894d7141334da97b51787da22d3c2d8219cbe129a28a470a74aa2127f69e3\n",
      "  Stored in directory: c:\\users\\babin\\appdata\\local\\pip\\cache\\wheels\\7c\\35\\3c\\e6716704b163faa5267081fde14a55d992e4127de60c833d76\n",
      "Successfully built steam\n",
      "Installing collected packages: vdf, pycryptodomex, cachetools, steam\n",
      "Successfully installed cachetools-5.0.0 pycryptodomex-3.13.0 steam-1.2.0 vdf-3.4\n"
     ]
    }
   ],
   "source": [
    "# !pip install steam"
   ]
  },
  {
   "cell_type": "code",
   "execution_count": 1,
   "id": "05e0b7de",
   "metadata": {},
   "outputs": [],
   "source": [
    "import steam\n",
    "from steam.webapi import WebAPI\n",
    "# from steam.client import SteamClient\n",
    "from steam.enums.emsg import EMsg\n",
    "\n",
    "aip_key='0E7A57C184C672AE7AC145F347805197'\n",
    "# api = WebAPI(key=key)\n",
    "# client = SteamClient()\n"
   ]
  },
  {
   "cell_type": "code",
   "execution_count": 39,
   "id": "eeeba845",
   "metadata": {},
   "outputs": [
    {
     "name": "stdout",
     "output_type": "stream",
     "text": [
      "Error occured, no username found for Zadlo\n",
      "\n"
     ]
    }
   ],
   "source": [
    "import requests\n",
    "\n",
    "api_key = '0E7A57C184C672AE7AC145F347805197'\n",
    "user_name = 'Zadlo'\n",
    "\n",
    "\n",
    "def find_user_id(user_name=str, api_key=str)->int:\n",
    "    url = f\"\"\"http://api.steampowered.com/ISteamUser/ResolveVanityURL/v0001/?key={api_key}&vanityurl={user_name}\"\"\"\n",
    "    r = requests.get(url)\n",
    "    for entries in r.json().values():\n",
    "        pass\n",
    "        if entries.get('success')==1:\n",
    "            steamid = entries.get('steamid')\n",
    "            print(f'steamid for {user_name}: {steamid}')\n",
    "            return(entries.get('steamid'))\n",
    "        else:\n",
    "            print(f'Error occured, no username found for {user_name}\\n')\n",
    "\n",
    "find_user_id(user_name, api_key) "
   ]
  },
  {
   "cell_type": "code",
   "execution_count": null,
   "id": "92da921b",
   "metadata": {},
   "outputs": [],
   "source": [
    "https://api.steampowered.com/ISteamUser/GetPlayerSummaries/v2/?key=0E7A57C184C672AE7AC145F347805197&format=json&steamids=76561198004230839\n",
    "moje - '76561198004230839'\n"
   ]
  },
  {
   "cell_type": "code",
   "execution_count": 54,
   "id": "aedb5e1b",
   "metadata": {},
   "outputs": [
    {
     "name": "stdout",
     "output_type": "stream",
     "text": [
      "steamid 76561198004230839\n",
      "communityvisibilitystate 3\n",
      "profilestate 1\n",
      "personaname Cpl. Borubar\n",
      "profileurl https://steamcommunity.com/profiles/76561198004230839/\n",
      "avatar https://steamcdn-a.akamaihd.net/steamcommunity/public/images/avatars/79/791021a2eddfea31f9f491d701e24f1d1b79ca8a.jpg\n",
      "avatarmedium https://steamcdn-a.akamaihd.net/steamcommunity/public/images/avatars/79/791021a2eddfea31f9f491d701e24f1d1b79ca8a_medium.jpg\n",
      "avatarfull https://steamcdn-a.akamaihd.net/steamcommunity/public/images/avatars/79/791021a2eddfea31f9f491d701e24f1d1b79ca8a_full.jpg\n",
      "avatarhash 791021a2eddfea31f9f491d701e24f1d1b79ca8a\n",
      "lastlogoff 1643499271\n",
      "personastate 1\n",
      "primaryclanid 103582791429521408\n",
      "timecreated 1230002121\n",
      "personastateflags 0\n"
     ]
    }
   ],
   "source": [
    "import requests\n",
    "\n",
    "def get_usr_details(api_key, steamid):\n",
    "    url = f\"\"\"https://api.steampowered.com/ISteamUser/GetPlayerSummaries/v2/?key={api_key}&format=json&steamids={steamid}\"\"\"\n",
    "    r = requests.get(url)\n",
    "    for line in r.json().items():\n",
    "        for item in line[1].items():\n",
    "            for k,v in item[1][0].items():\n",
    "                print(k,v)\n",
    "        \n",
    "get_usr_details('0E7A57C184C672AE7AC145F347805197', '76561198004230839')"
   ]
  },
  {
   "cell_type": "code",
   "execution_count": 63,
   "id": "df2ba741",
   "metadata": {},
   "outputs": [
    {
     "name": "stdout",
     "output_type": "stream",
     "text": [
      "dict_items([('friendslist', {'friends': [{'steamid': '76561198003770252', 'relationship': 'friend', 'friend_since': 0}, {'steamid': '76561198037922715', 'relationship': 'friend', 'friend_since': 1436472848}, {'steamid': '76561198067479427', 'relationship': 'friend', 'friend_since': 1622488798}, {'steamid': '76561198068505523', 'relationship': 'friend', 'friend_since': 1385845823}, {'steamid': '76561198080824501', 'relationship': 'friend', 'friend_since': 1388697545}, {'steamid': '76561198119523196', 'relationship': 'friend', 'friend_since': 1436109710}, {'steamid': '76561198120091723', 'relationship': 'friend', 'friend_since': 1436098881}, {'steamid': '76561198120580300', 'relationship': 'friend', 'friend_since': 1388175368}, {'steamid': '76561198121386411', 'relationship': 'friend', 'friend_since': 1388680864}, {'steamid': '76561198160730435', 'relationship': 'friend', 'friend_since': 1436120893}]})])\n"
     ]
    },
    {
     "ename": "AttributeError",
     "evalue": "'list' object has no attribute 'items'",
     "output_type": "error",
     "traceback": [
      "\u001b[1;31m---------------------------------------------------------------------------\u001b[0m",
      "\u001b[1;31mAttributeError\u001b[0m                            Traceback (most recent call last)",
      "\u001b[1;32m~\\AppData\\Local\\Temp/ipykernel_6040/3649676530.py\u001b[0m in \u001b[0;36m<module>\u001b[1;34m\u001b[0m\n\u001b[0;32m      9\u001b[0m \u001b[1;33m\u001b[0m\u001b[0m\n\u001b[0;32m     10\u001b[0m \u001b[1;33m\u001b[0m\u001b[0m\n\u001b[1;32m---> 11\u001b[1;33m \u001b[0mget_friends_list\u001b[0m\u001b[1;33m(\u001b[0m\u001b[1;34m'0E7A57C184C672AE7AC145F347805197'\u001b[0m\u001b[1;33m,\u001b[0m \u001b[1;34m'76561198004230839'\u001b[0m\u001b[1;33m)\u001b[0m\u001b[1;33m\u001b[0m\u001b[1;33m\u001b[0m\u001b[0m\n\u001b[0m\u001b[0;32m     12\u001b[0m \u001b[1;31m# https://api.steampowered.com/ISteamUser/GetFriendList/v1/?key=0E7A57C184C672AE7AC145F347805197&format=json&steamid=76561198004230839\u001b[0m\u001b[1;33m\u001b[0m\u001b[1;33m\u001b[0m\u001b[0m\n",
      "\u001b[1;32m~\\AppData\\Local\\Temp/ipykernel_6040/3649676530.py\u001b[0m in \u001b[0;36mget_friends_list\u001b[1;34m(api_key, steamid)\u001b[0m\n\u001b[0;32m      5\u001b[0m     \u001b[1;32mfor\u001b[0m \u001b[0mline\u001b[0m \u001b[1;32min\u001b[0m \u001b[0mr\u001b[0m\u001b[1;33m.\u001b[0m\u001b[0mjson\u001b[0m\u001b[1;33m(\u001b[0m\u001b[1;33m)\u001b[0m\u001b[1;33m.\u001b[0m\u001b[0mitems\u001b[0m\u001b[1;33m(\u001b[0m\u001b[1;33m)\u001b[0m\u001b[1;33m:\u001b[0m\u001b[1;33m\u001b[0m\u001b[1;33m\u001b[0m\u001b[0m\n\u001b[0;32m      6\u001b[0m         \u001b[1;32mfor\u001b[0m \u001b[0mitem\u001b[0m \u001b[1;32min\u001b[0m \u001b[0mline\u001b[0m\u001b[1;33m[\u001b[0m\u001b[1;36m1\u001b[0m\u001b[1;33m]\u001b[0m\u001b[1;33m.\u001b[0m\u001b[0mitems\u001b[0m\u001b[1;33m(\u001b[0m\u001b[1;33m)\u001b[0m\u001b[1;33m:\u001b[0m\u001b[1;33m\u001b[0m\u001b[1;33m\u001b[0m\u001b[0m\n\u001b[1;32m----> 7\u001b[1;33m             \u001b[1;32mfor\u001b[0m \u001b[0mk\u001b[0m\u001b[1;33m,\u001b[0m\u001b[0mv\u001b[0m \u001b[1;32min\u001b[0m \u001b[0mitem\u001b[0m\u001b[1;33m[\u001b[0m\u001b[1;36m1\u001b[0m\u001b[1;33m]\u001b[0m\u001b[1;33m.\u001b[0m\u001b[0mitems\u001b[0m\u001b[1;33m(\u001b[0m\u001b[1;33m)\u001b[0m\u001b[1;33m:\u001b[0m\u001b[1;33m\u001b[0m\u001b[1;33m\u001b[0m\u001b[0m\n\u001b[0m\u001b[0;32m      8\u001b[0m                 \u001b[0mprint\u001b[0m\u001b[1;33m(\u001b[0m\u001b[0mk\u001b[0m\u001b[1;33m,\u001b[0m\u001b[0mv\u001b[0m\u001b[1;33m)\u001b[0m\u001b[1;33m\u001b[0m\u001b[1;33m\u001b[0m\u001b[0m\n\u001b[0;32m      9\u001b[0m \u001b[1;33m\u001b[0m\u001b[0m\n",
      "\u001b[1;31mAttributeError\u001b[0m: 'list' object has no attribute 'items'"
     ]
    }
   ],
   "source": [
    "def get_friends_list(api_key, steamid):\n",
    "    url = f\"\"\"https://api.steampowered.com/ISteamUser/GetFriendList/v1/?key={api_key}&format=json&steamid={steamid}\"\"\"\n",
    "    r = requests.get(url)\n",
    "    print(r.json().items())\n",
    "    for line in r.json().items():\n",
    "        for item in line[1].items():\n",
    "            for k,v in item[1][0].items():\n",
    "                print(k,v)\n",
    "\n",
    "\n",
    "get_friends_list('0E7A57C184C672AE7AC145F347805197', '76561198004230839')\n",
    "# https://api.steampowered.com/ISteamUser/GetFriendList/v1/?key=0E7A57C184C672AE7AC145F347805197&format=json&steamid=76561198004230839"
   ]
  }
 ],
 "metadata": {
  "kernelspec": {
   "display_name": "Python 3 (ipykernel)",
   "language": "python",
   "name": "python3"
  },
  "language_info": {
   "codemirror_mode": {
    "name": "ipython",
    "version": 3
   },
   "file_extension": ".py",
   "mimetype": "text/x-python",
   "name": "python",
   "nbconvert_exporter": "python",
   "pygments_lexer": "ipython3",
   "version": "3.9.7"
  }
 },
 "nbformat": 4,
 "nbformat_minor": 5
}
