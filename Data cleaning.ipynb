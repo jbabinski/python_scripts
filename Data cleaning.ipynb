{
 "cells": [
  {
   "cell_type": "code",
   "execution_count": 1,
   "metadata": {},
   "outputs": [],
   "source": [
    "import pandas as pd\n",
    "import numpy as np\n",
    "ride_sharing = pd.read_csv('datasets/ride_sharing_new.csv', index_col=0)\n",
    "\n",
    "# https://pandas.pydata.org/docs/user_guide/basics.html#basics-dtypes"
   ]
  },
  {
   "cell_type": "code",
   "execution_count": 6,
   "metadata": {},
   "outputs": [
    {
     "name": "stdout",
     "output_type": "stream",
     "text": [
      "count    25760.000000\n",
      "mean         2.008385\n",
      "std          0.704541\n",
      "min          1.000000\n",
      "25%          2.000000\n",
      "50%          2.000000\n",
      "75%          3.000000\n",
      "max          3.000000\n",
      "Name: user_type, dtype: float64\n",
      "count     25760\n",
      "unique        3\n",
      "top           2\n",
      "freq      12972\n",
      "Name: user_type_cat, dtype: int64\n"
     ]
    }
   ],
   "source": [
    "# convert data type str->cat\n",
    "\n",
    "# Print summary statistics of user_type column\n",
    "print(ride_sharing['user_type'].describe())\n",
    "ride_sharing['user_type_cat'] = ride_sharing['user_type'].astype('category')\n",
    "assert ride_sharing['user_type_cat'].dtype == 'category'\n",
    "print(ride_sharing['user_type_cat'].describe())"
   ]
  },
  {
   "cell_type": "code",
   "execution_count": 7,
   "metadata": {},
   "outputs": [
    {
     "name": "stdout",
     "output_type": "stream",
     "text": [
      "          duration duration_trim  duration_time\n",
      "0       12 minutes           12              12\n",
      "1       24 minutes           24              24\n",
      "2        8 minutes            8               8\n",
      "3        4 minutes            4               4\n",
      "4       11 minutes           11              11\n",
      "5       10 minutes           10              10\n",
      "6       16 minutes           16              16\n",
      "7        9 minutes            9               9\n",
      "8       21 minutes           21              21\n",
      "9        5 minutes            5               5\n",
      "10      19 minutes           19              19\n",
      "11       6 minutes            6               6\n",
      "12       7 minutes            7               7\n",
      "13     187 minutes          187             187\n",
      "14      13 minutes           13              13\n",
      "15       4 minutes            4               4\n",
      "16      32 minutes           32              32\n",
      "17       5 minutes            5               5\n",
      "18      16 minutes           16              16\n",
      "19      17 minutes           17              17\n",
      "20      16 minutes           16              16\n",
      "21      11 minutes           11              11\n",
      "22      10 minutes           10              10\n",
      "23       3 minutes            3               3\n",
      "24      11 minutes           11              11\n",
      "25       3 minutes            3               3\n",
      "26      12 minutes           12              12\n",
      "27       7 minutes            7               7\n",
      "28       5 minutes            5               5\n",
      "29       6 minutes            6               6\n",
      "...            ...           ...            ...\n",
      "25730    1 minutes            1               1\n",
      "25731   12 minutes           12              12\n",
      "25732   24 minutes           24              24\n",
      "25733   21 minutes           21              21\n",
      "25734    1 minutes            1               1\n",
      "25735    2 minutes            2               2\n",
      "25736   13 minutes           13              13\n",
      "25737   13 minutes           13              13\n",
      "25738   19 minutes           19              19\n",
      "25739   18 minutes           18              18\n",
      "25740   18 minutes           18              18\n",
      "25741   12 minutes           12              12\n",
      "25742    6 minutes            6               6\n",
      "25743   10 minutes           10              10\n",
      "25744    4 minutes            4               4\n",
      "25745   17 minutes           17              17\n",
      "25746    4 minutes            4               4\n",
      "25747   31 minutes           31              31\n",
      "25748   31 minutes           31              31\n",
      "25749   15 minutes           15              15\n",
      "25750   15 minutes           15              15\n",
      "25751   15 minutes           15              15\n",
      "25752   15 minutes           15              15\n",
      "25753    9 minutes            9               9\n",
      "25754    9 minutes            9               9\n",
      "25755   11 minutes           11              11\n",
      "25756   10 minutes           10              10\n",
      "25757   14 minutes           14              14\n",
      "25758   14 minutes           14              14\n",
      "25759   29 minutes           29              29\n",
      "\n",
      "[25760 rows x 3 columns]\n",
      "11.389052795031056\n"
     ]
    }
   ],
   "source": [
    "# converting data type str->int\n",
    "\n",
    "ride_sharing['duration_trim'] = ride_sharing['duration'].str.strip('minutes') # Strip duration of minutes - string to int\n",
    "ride_sharing['duration_time'] = ride_sharing['duration_trim'].astype('int')\n",
    "assert ride_sharing['duration_time'].dtype == 'int'\n",
    "print(ride_sharing[['duration','duration_trim','duration_time']])\n",
    "print(ride_sharing['duration_time'].mean())"
   ]
  },
  {
   "cell_type": "code",
   "execution_count": 8,
   "metadata": {},
   "outputs": [
    {
     "data": {
      "text/plain": [
       "0         12\n",
       "1         24\n",
       "2          8\n",
       "3          4\n",
       "4         11\n",
       "5         10\n",
       "6         16\n",
       "7          9\n",
       "8         21\n",
       "9          5\n",
       "10        19\n",
       "11         6\n",
       "12         7\n",
       "13       187\n",
       "14        13\n",
       "15         4\n",
       "16        32\n",
       "17         5\n",
       "18        16\n",
       "19        17\n",
       "20        16\n",
       "21        11\n",
       "22        10\n",
       "23         3\n",
       "24        11\n",
       "25         3\n",
       "26        12\n",
       "27         7\n",
       "28         5\n",
       "29         6\n",
       "        ... \n",
       "25730      1\n",
       "25731     12\n",
       "25732     24\n",
       "25733     21\n",
       "25734      1\n",
       "25735      2\n",
       "25736     13\n",
       "25737     13\n",
       "25738     19\n",
       "25739     18\n",
       "25740     18\n",
       "25741     12\n",
       "25742      6\n",
       "25743     10\n",
       "25744      4\n",
       "25745     17\n",
       "25746      4\n",
       "25747     31\n",
       "25748     31\n",
       "25749     15\n",
       "25750     15\n",
       "25751     15\n",
       "25752     15\n",
       "25753      9\n",
       "25754      9\n",
       "25755     11\n",
       "25756     10\n",
       "25757     14\n",
       "25758     14\n",
       "25759     29\n",
       "Name: duration_time, Length: 25760, dtype: int32"
      ]
     },
     "execution_count": 8,
     "metadata": {},
     "output_type": "execute_result"
    }
   ],
   "source": [
    "# limit range for values\n",
    "\n",
    "ride_sharing.loc[ride_sharing['tire_sizes'] > 120, :] = 120"
   ]
  },
  {
   "cell_type": "code",
   "execution_count": 13,
   "metadata": {
    "scrolled": false
   },
   "outputs": [
    {
     "ename": "KeyError",
     "evalue": "Index(['ride_id'], dtype='object')",
     "output_type": "error",
     "traceback": [
      "\u001b[1;31m---------------------------------------------------------------------------\u001b[0m",
      "\u001b[1;31mKeyError\u001b[0m                                  Traceback (most recent call last)",
      "\u001b[1;32m<ipython-input-13-8eb547633a74>\u001b[0m in \u001b[0;36m<module>\u001b[1;34m\u001b[0m\n\u001b[0;32m      2\u001b[0m \u001b[1;33m\u001b[0m\u001b[0m\n\u001b[0;32m      3\u001b[0m \u001b[1;31m# Find duplicates\u001b[0m\u001b[1;33m\u001b[0m\u001b[1;33m\u001b[0m\u001b[1;33m\u001b[0m\u001b[0m\n\u001b[1;32m----> 4\u001b[1;33m \u001b[0mduplicates\u001b[0m \u001b[1;33m=\u001b[0m \u001b[0mride_sharing\u001b[0m\u001b[1;33m.\u001b[0m\u001b[0mduplicated\u001b[0m\u001b[1;33m(\u001b[0m\u001b[0msubset\u001b[0m\u001b[1;33m=\u001b[0m\u001b[1;34m'ride_id'\u001b[0m\u001b[1;33m,\u001b[0m \u001b[0mkeep\u001b[0m\u001b[1;33m=\u001b[0m\u001b[1;32mFalse\u001b[0m\u001b[1;33m)\u001b[0m\u001b[1;33m\u001b[0m\u001b[1;33m\u001b[0m\u001b[0m\n\u001b[0m\u001b[0;32m      5\u001b[0m \u001b[1;33m\u001b[0m\u001b[0m\n\u001b[0;32m      6\u001b[0m \u001b[1;31m# Sort your duplicated rides\u001b[0m\u001b[1;33m\u001b[0m\u001b[1;33m\u001b[0m\u001b[1;33m\u001b[0m\u001b[0m\n",
      "\u001b[1;32mD:\\Programy\\Anaconda\\lib\\site-packages\\pandas\\core\\frame.py\u001b[0m in \u001b[0;36mduplicated\u001b[1;34m(self, subset, keep)\u001b[0m\n\u001b[0;32m   4681\u001b[0m         \u001b[0mdiff\u001b[0m \u001b[1;33m=\u001b[0m \u001b[0mIndex\u001b[0m\u001b[1;33m(\u001b[0m\u001b[0msubset\u001b[0m\u001b[1;33m)\u001b[0m\u001b[1;33m.\u001b[0m\u001b[0mdifference\u001b[0m\u001b[1;33m(\u001b[0m\u001b[0mself\u001b[0m\u001b[1;33m.\u001b[0m\u001b[0mcolumns\u001b[0m\u001b[1;33m)\u001b[0m\u001b[1;33m\u001b[0m\u001b[1;33m\u001b[0m\u001b[0m\n\u001b[0;32m   4682\u001b[0m         \u001b[1;32mif\u001b[0m \u001b[1;32mnot\u001b[0m \u001b[0mdiff\u001b[0m\u001b[1;33m.\u001b[0m\u001b[0mempty\u001b[0m\u001b[1;33m:\u001b[0m\u001b[1;33m\u001b[0m\u001b[1;33m\u001b[0m\u001b[0m\n\u001b[1;32m-> 4683\u001b[1;33m             \u001b[1;32mraise\u001b[0m \u001b[0mKeyError\u001b[0m\u001b[1;33m(\u001b[0m\u001b[0mdiff\u001b[0m\u001b[1;33m)\u001b[0m\u001b[1;33m\u001b[0m\u001b[1;33m\u001b[0m\u001b[0m\n\u001b[0m\u001b[0;32m   4684\u001b[0m \u001b[1;33m\u001b[0m\u001b[0m\n\u001b[0;32m   4685\u001b[0m         vals = (col.values for name, col in self.iteritems()\n",
      "\u001b[1;31mKeyError\u001b[0m: Index(['ride_id'], dtype='object')"
     ]
    }
   ],
   "source": [
    "# uniqueness constrains\n",
    "\n",
    "# Find duplicates\n",
    "duplicates = ride_sharing.duplicated(subset='ride_id', keep=False)\n",
    "# https://pandas.pydata.org/docs/reference/api/pandas.DataFrame.duplicated.html?highlight=duplicated#pandas.DataFrame.duplicated\n",
    "duplicated_rides = ride_sharing[duplicates].sort_values('ride_id')\n",
    "print(duplicated_rides[['ride_id','duration','user_birth_year']])\n",
    "\n",
    "# replace duplicates with agg data\n",
    "# Drop complete duplicates from ride_sharing\n",
    "ride_dup = ride_sharing.drop_duplicates()\n",
    "statistics = {'user_birth_year': 'min', 'duration': 'mean'}\n",
    "ride_unique = ride_dup.groupby('ride_id').agg(statistics).reset_index()\n",
    "duplicates = ride_unique.duplicated(subset = 'ride_id', keep = False)\n",
    "duplicated_rides = ride_unique[duplicates == True]\n",
    "\n",
    "# Assert duplicates are processed\n",
    "assert duplicated_rides.shape[0] == 0"
   ]
  },
  {
   "cell_type": "code",
   "execution_count": 23,
   "metadata": {},
   "outputs": [
    {
     "name": "stdout",
     "output_type": "stream",
     "text": [
      "        id        day         airline     destination            dest_region  \\\n",
      "52    1635   Thursday      KOREAN AIR           SEOUL                   Asia   \n",
      "153   2262   Saturday          UNITED     BAKERSFIELD                West US   \n",
      "189    529   Thursday        EMIRATES           DUBAI            Middle East   \n",
      "371   1897     Monday       LUFTHANSA          MUNICH                 Europe   \n",
      "447    557   Thursday        EMIRATES           DUBAI            Middle East   \n",
      "465   1196    Tuesday       SOUTHWEST       LAS VEGAS                West US   \n",
      "473   3093    Tuesday          UNITED         SPOKANE                West US   \n",
      "567   1353    Tuesday     UNITED INTL        SHANGHAI                   Asia   \n",
      "747   1898     Monday       LUFTHANSA          MUNICH                    eur   \n",
      "839   1276   Thursday  CHINA SOUTHERN           WUHAN                   Asia   \n",
      "1087   649     Friday     UNITED INTL          MUNICH                    eur   \n",
      "1116  1199    Tuesday       SOUTHWEST       LAS VEGAS                West US   \n",
      "1145  2942    Tuesday       SOUTHWEST       SAN DIEGO                West US   \n",
      "1311  1821     Sunday          ALASKA  RALEIGH-DURHAM                East US   \n",
      "1314  1585  Wednesday           DELTA  SALT LAKE CITY                West US   \n",
      "1441  1678   Saturday  CATHAY PACIFIC       HONG KONG                   Asia   \n",
      "1445  1428  Wednesday          UNITED       LAS VEGAS                West US   \n",
      "1520  2993   Thursday          UNITED       BALTIMORE                East US   \n",
      "1567  1727     Monday      AIR CANADA         TORONTO          Canada/Mexico   \n",
      "1909   346     Friday       LUFTHANSA       FRANKFURT                    eur   \n",
      "1914    11    Tuesday       SOUTHWEST     LOS ANGELES                West US   \n",
      "1993  3090     Sunday            COPA     PANAMA CITY  Central/South America   \n",
      "2369  2214   Thursday       SOUTHWEST         PHOENIX                West US   \n",
      "2398  1692     Sunday          ALASKA       SANTA ANA                West US   \n",
      "2673  1740     Monday      AIR CANADA         TORONTO          Canada/Mexico   \n",
      "2685  1021     Friday      AIR CANADA       VANCOUVER          Canada/Mexico   \n",
      "\n",
      "        dest_size boarding_area   dept_time  wait_min     cleanliness  \\\n",
      "52            Hub    Gates 1-12  2018-12-31     210.0  Somewhat dirty   \n",
      "153         Small   Gates 70-90  2018-12-31     166.0  Somewhat dirty   \n",
      "189           Hub    Gates 1-12  2018-12-31     240.0  Somewhat dirty   \n",
      "371           Hub  Gates 91-102  2018-12-31     145.0  Somewhat dirty   \n",
      "447           Hub    Gates 1-12  2018-12-31     205.0  Somewhat dirty   \n",
      "465           Hub   Gates 20-39  2018-12-31     145.0  Somewhat dirty   \n",
      "473         Small   Gates 70-90  2018-12-31     127.0  Somewhat dirty   \n",
      "567           Hub  Gates 91-102  2018-12-31     120.0  Somewhat dirty   \n",
      "747           Hub  Gates 91-102  2018-12-31     235.0  Somewhat dirty   \n",
      "839   Medium         Gates 1-12  2018-12-31     225.0  Somewhat dirty   \n",
      "1087          Hub  Gates 91-102  2018-12-31     355.0  Somewhat dirty   \n",
      "1116          Hub   Gates 20-39  2018-12-31     930.0  Somewhat dirty   \n",
      "1145       Medium   Gates 20-39  2018-12-31      90.0  Somewhat dirty   \n",
      "1311       Medium   Gates 50-59  2018-12-31      85.0  Somewhat dirty   \n",
      "1314  Medium        Gates 40-48  2018-12-31     100.0  Somewhat dirty   \n",
      "1441          Hub    Gates 1-12  2018-12-31     140.0  Somewhat dirty   \n",
      "1445          Hub   Gates 60-69  2018-12-31     110.0  Somewhat dirty   \n",
      "1520       Medium   Gates 70-90  2018-12-31     104.0  Somewhat dirty   \n",
      "1567          Hub  Gates 91-102  2018-12-31     100.0  Somewhat dirty   \n",
      "1909          Hub  Gates 91-102  2018-12-31     210.0  Somewhat dirty   \n",
      "1914          Hub   Gates 20-39  2018-12-31     200.0  Somewhat dirty   \n",
      "1993       Medium    Gates 1-12  2018-12-31     163.0  Somewhat dirty   \n",
      "2369          Hub   Gates 20-39  2018-12-31     135.0  Somewhat dirty   \n",
      "2398       Medium   Gates 50-59  2018-12-31     307.0  Somewhat dirty   \n",
      "2673          Hub  Gates 91-102  2018-12-31     105.0  Somewhat dirty   \n",
      "2685       Medium  Gates 91-102  2018-12-31      95.0  Somewhat dirty   \n",
      "\n",
      "               safety          satisfaction  \n",
      "52      Somewhat safe               Neutral  \n",
      "153         Very safe  Somewhat unsatisfied  \n",
      "189     Somewhat safe               Neutral  \n",
      "371           Neutral               Neutral  \n",
      "447           Neutral    Somewhat satsified  \n",
      "465           Neutral  Somewhat unsatisfied  \n",
      "473     Somewhat safe    Somewhat satsified  \n",
      "567           Neutral               Neutral  \n",
      "747           Neutral               Neutral  \n",
      "839     Somewhat safe    Somewhat satsified  \n",
      "1087    Somewhat safe               Neutral  \n",
      "1116  Somewhat unsafe  Somewhat unsatisfied  \n",
      "1145        Very safe    Somewhat satsified  \n",
      "1311          Neutral               Neutral  \n",
      "1314          Neutral    Somewhat satsified  \n",
      "1441          Neutral  Somewhat unsatisfied  \n",
      "1445          Neutral  Somewhat unsatisfied  \n",
      "1520    Somewhat safe               Neutral  \n",
      "1567          Neutral               Neutral  \n",
      "1909    Somewhat safe               Neutral  \n",
      "1914    Somewhat safe               Neutral  \n",
      "1993          Neutral               Neutral  \n",
      "2369    Somewhat safe               Neutral  \n",
      "2398          Neutral               Neutral  \n",
      "2673          Neutral               Neutral  \n",
      "2685          Neutral               Neutral  \n"
     ]
    }
   ],
   "source": [
    "# membership contrains\n",
    "\n",
    "airlines = pd.read_csv('datasets/airlines_final.csv', index_col=0)\n",
    "categories = pd.DataFrame(['Clean', 'Average', 'Somewhat clean', 'Dirty'], columns=['cleanliness'])\n",
    "\n",
    "cat_clean = set(airlines['cleanliness']).difference(categories['cleanliness']) # set of differences between dfs\n",
    "cat_clean_rows = airlines['cleanliness'].isin(cat_clean) # check which rows have incorrect values \n",
    "print(airlines[cat_clean_rows]) # print rows with incorrect data\n",
    "print(airlines[~cat_clean_rows]) # print rows with correct data"
   ]
  },
  {
   "cell_type": "code",
   "execution_count": 24,
   "metadata": {},
   "outputs": [
    {
     "name": "stdout",
     "output_type": "stream",
     "text": [
      "['Asia' 'Canada/Mexico' 'West US' 'East US' 'Midwest US' 'EAST US'\n",
      " 'Middle East' 'Europe' 'eur' 'Central/South America'\n",
      " 'Australia/New Zealand' 'middle east']\n",
      "['Hub' 'Small' '    Hub' 'Medium' 'Large' 'Hub     ' '    Small'\n",
      " 'Medium     ' '    Medium' 'Small     ' '    Large' 'Large     ']\n",
      "['asia' 'canada/mexico' 'west us' 'east us' 'midwest us' 'middle east'\n",
      " 'europe' 'central/south america' 'australia/new zealand']\n",
      "['asia' 'canada/mexico' 'west us' 'east us' 'midwest us' 'middle east'\n",
      " 'europe' 'central/south america' 'australia/new zealand']\n"
     ]
    }
   ],
   "source": [
    "# Categorical variables\n",
    "# removing white spaces and replacing names\n",
    "\n",
    "print(airlines['dest_region'].unique())\n",
    "print(airlines['dest_size'].unique())\n",
    "airlines['dest_region'] = airlines['dest_region'].str.lower() \n",
    "airlines['dest_region'] = airlines['dest_region'].replace({'eur':'europe'})\n",
    "airlines['dest_size'] = airlines['dest_size'].str.strip()\n",
    "print(airlines['dest_region'].unique())\n",
    "print(airlines['dest_size'].unique())"
   ]
  },
  {
   "cell_type": "code",
   "execution_count": 27,
   "metadata": {},
   "outputs": [],
   "source": [
    "# add range column + map values to classify\n",
    "\n",
    "label_ranges = [0, 60, 180, np.inf]\n",
    "label_names = ['short', 'medium', 'long']\n",
    "\n",
    "airlines['wait_type'] = pd.cut(airlines['wait_min'], bins = label_ranges, \n",
    "                                labels = label_names)\n",
    "mappings = {'Monday':'weekday', 'Tuesday':'weekday', 'Wednesday': 'weekday', \n",
    "            'Thursday': 'weekday', 'Friday': 'weekday', \n",
    "            'Saturday': 'weekend', 'Sunday': 'weekend'}\n",
    "airlines['day_week'] = airlines['day'].replace(mappings)"
   ]
  },
  {
   "cell_type": "code",
   "execution_count": null,
   "metadata": {},
   "outputs": [],
   "source": [
    "# cleaning text data\n",
    "\n",
    "# replace\n",
    "airlines['full_name'] = airlines['full_name'].str.replace(\"Dr.\",\"\")\n",
    "airlines['full_name'] = airlines['full_name'].str.replace(\"Mr.\",\"\")\n",
    "airlines['full_name'] = airlines['full_name'].str.replace(\"Miss\",\"\")\n",
    "airlines['full_name'] = airlines['full_name'].str.replace(\"Ms.\",\"\")\n",
    "assert airlines['full_name'].str.contains('Ms.|Mr.|Miss|Dr.').any() == False\n",
    "\n",
    "#check lenght\n",
    "resp_length = airlines['survey_response'].str.len()\n",
    "airlines_survey = airlines[resp_length > 40]\n",
    "assert airlines_survey['survey_response'].str.len().min() > 40\n",
    "print(airlines_survey['survey_response'])"
   ]
  },
  {
   "cell_type": "code",
   "execution_count": null,
   "metadata": {},
   "outputs": [],
   "source": [
    "# uniformity\n",
    "\n",
    "# uniform currency\n",
    "acct_eu = banking['acct_cur'] == 'euro'\n",
    "banking.loc[acct_eu, 'acct_amount'] = banking.loc[acct_eu, 'acct_amount'] * 1.1\n",
    "banking.loc[acct_eu, 'acct_cur'] = 'dollar'\n",
    "assert banking['acct_cur'].unique() == 'dollar'"
   ]
  },
  {
   "cell_type": "code",
   "execution_count": 2,
   "metadata": {},
   "outputs": [],
   "source": [
    "# different date formats\n",
    "# https://pandas.pydata.org/pandas-docs/stable/reference/api/pandas.to_datetime.html\n",
    "\n",
    "banking = pd.read_csv('datasets/banking_dirty.csv')\n",
    "\n",
    "pd.to_datetime(pd.DataFrame({'2019-01-01'}, columns=['date'])['date']).dt.strftime(\"%d-%m-%Y\") # change date format\n",
    "\n",
    "# convert to datetime, infer datetime format, set NaT for errors\n",
    "banking['account_opened'] = pd.to_datetime(banking['account_opened'],\n",
    "                                           infer_datetime_format = True,\n",
    "                                           errors = 'coerce') "
   ]
  },
  {
   "cell_type": "code",
   "execution_count": 5,
   "metadata": {},
   "outputs": [],
   "source": [
    "# get year from datetime\n",
    "banking['acct_year'] = banking['account_opened'].dt.strftime('%Y')"
   ]
  },
  {
   "cell_type": "code",
   "execution_count": 8,
   "metadata": {},
   "outputs": [
    {
     "name": "stdout",
     "output_type": "stream",
     "text": [
      "Number of inconsistent investments:  8\n"
     ]
    }
   ],
   "source": [
    "# cross field validation\n",
    "\n",
    "# check if sum of columns' values are in line with other column\n",
    "fund_columns = ['fund_A', 'fund_B', 'fund_C', 'fund_D']\n",
    "# Find rows where fund_columns row sum == inv_amount\n",
    "inv_equ = banking[fund_columns].sum(axis=1) == banking['inv_amount']\n",
    "# Store consistent and inconsistent data\n",
    "consistent_inv = banking[inv_equ]\n",
    "inconsistent_inv = banking[~inv_equ]\n",
    "\n",
    "print(\"Number of inconsistent investments: \", inconsistent_inv.shape[0])"
   ]
  },
  {
   "cell_type": "code",
   "execution_count": null,
   "metadata": {},
   "outputs": [],
   "source": [
    "# check if dates are in line with age\n",
    "\n",
    "# Store today's date and find ages\n",
    "today = dt.date.today()\n",
    "ages_manual = today.year - banking['birth_date'].dt.year\n",
    "# Find rows where age column == ages_manual\n",
    "age_equ = ages_manual == banking['age']\n",
    "# Store consistent and inconsistent data\n",
    "consistent_ages = banking[age_equ]\n",
    "inconsistent_ages = banking[~age_equ]\n",
    "# Store consistent and inconsistent data\n",
    "print(\"Number of inconsistent ages: \", inconsistent_ages.shape[0])"
   ]
  },
  {
   "cell_type": "code",
   "execution_count": 7,
   "metadata": {},
   "outputs": [
    {
     "name": "stdout",
     "output_type": "stream",
     "text": [
      "Collecting missingno\n",
      "  Downloading https://files.pythonhosted.org/packages/d8/c2/b407dce6b18d44f52173f6921d62f326e1329dd6d82fa03b380a14612e4c/missingno-0.5.0-py3-none-any.whl\n",
      "Requirement already satisfied: seaborn in d:\\programy\\anaconda\\lib\\site-packages (from missingno) (0.9.0)\n",
      "Requirement already satisfied: scipy in d:\\programy\\anaconda\\lib\\site-packages (from missingno) (1.2.1)\n",
      "Requirement already satisfied: numpy in d:\\programy\\anaconda\\lib\\site-packages (from missingno) (1.16.4)\n",
      "Requirement already satisfied: matplotlib in d:\\programy\\anaconda\\lib\\site-packages (from missingno) (3.1.0)\n",
      "Requirement already satisfied: pandas>=0.15.2 in d:\\programy\\anaconda\\lib\\site-packages (from seaborn->missingno) (0.24.2)\n",
      "Requirement already satisfied: cycler>=0.10 in d:\\programy\\anaconda\\lib\\site-packages (from matplotlib->missingno) (0.10.0)\n",
      "Requirement already satisfied: kiwisolver>=1.0.1 in d:\\programy\\anaconda\\lib\\site-packages (from matplotlib->missingno) (1.1.0)\n",
      "Requirement already satisfied: pyparsing!=2.0.4,!=2.1.2,!=2.1.6,>=2.0.1 in d:\\programy\\anaconda\\lib\\site-packages (from matplotlib->missingno) (2.4.0)\n",
      "Requirement already satisfied: python-dateutil>=2.1 in d:\\programy\\anaconda\\lib\\site-packages (from matplotlib->missingno) (2.8.0)\n",
      "Requirement already satisfied: pytz>=2011k in d:\\programy\\anaconda\\lib\\site-packages (from pandas>=0.15.2->seaborn->missingno) (2019.1)\n",
      "Requirement already satisfied: six in d:\\programy\\anaconda\\lib\\site-packages (from cycler>=0.10->matplotlib->missingno) (1.12.0)\n",
      "Requirement already satisfied: setuptools in d:\\programy\\anaconda\\lib\\site-packages (from kiwisolver>=1.0.1->matplotlib->missingno) (41.0.1)\n",
      "Installing collected packages: missingno\n",
      "Successfully installed missingno-0.5.0\n"
     ]
    }
   ],
   "source": [
    "!pip install missingno"
   ]
  },
  {
   "cell_type": "code",
   "execution_count": 9,
   "metadata": {},
   "outputs": [
    {
     "data": {
      "image/png": "[encoded data removed]",
      "text/plain": [
       "<Figure size 1800x720 with 2 Axes>"
      ]
     },
     "metadata": {
      "needs_background": "light"
     },
     "output_type": "display_data"
    }
   ],
   "source": [
    "# Data completeness\n",
    "\n",
    "#check how many NAs in each column\n",
    "banking.isna().sum()\n",
    "\n",
    "import missingno as msno\n",
    "import matplotlib.pyplot as plt\n",
    "\n",
    "msno.matrix(banking)\n",
    "plt.show()\n",
    "\n",
    "# Isolate missing and non missing values of inv_amount\n",
    "missing_investors = banking[banking['inv_amount'].isna()]\n",
    "investors = banking[~banking['inv_amount'].isna()]\n",
    "\n",
    "# Sort banking by age and visualize\n",
    "banking_sorted = banking.sort_values('age')\n",
    "msno.matrix(banking_sorted)\n",
    "plt.show()"
   ]
  },
  {
   "cell_type": "code",
   "execution_count": 10,
   "metadata": {},
   "outputs": [
    {
     "name": "stdout",
     "output_type": "stream",
     "text": [
      "Unnamed: 0          0\n",
      "cust_id             0\n",
      "birth_date          0\n",
      "Age                 0\n",
      "acct_amount         0\n",
      "inv_amount          0\n",
      "fund_A              0\n",
      "fund_B              0\n",
      "fund_C              0\n",
      "fund_D              0\n",
      "account_opened      0\n",
      "last_transaction    0\n",
      "dtype: int64\n"
     ]
    }
   ],
   "source": [
    "# missing data\n",
    "\n",
    "# Drop missing values of cust_id\n",
    "banking_fullid = banking.dropna(subset = ['cust_id'])\n",
    "# Compute estimated acct_amount\n",
    "acct_imp = banking_fullid['inv_amount'] * 5\n",
    "# Impute missing acct_amount with corresponding acct_imp\n",
    "banking_imputed = banking_fullid.fillna({'acct_amount':acct_imp})\n",
    "# Print number of missing values\n",
    "print(banking_imputed.isna().sum())"
   ]
  },
  {
   "cell_type": "code",
   "execution_count": 12,
   "metadata": {},
   "outputs": [
    {
     "name": "stdout",
     "output_type": "stream",
     "text": [
      "Collecting fuzzywuzzy\n",
      "  Downloading https://files.pythonhosted.org/packages/43/ff/74f23998ad2f93b945c0309f825be92e04e0348e062026998b5eefef4c33/fuzzywuzzy-0.18.0-py2.py3-none-any.whl\n",
      "Installing collected packages: fuzzywuzzy\n",
      "Successfully installed fuzzywuzzy-0.18.0\n"
     ]
    }
   ],
   "source": [
    "!pip install fuzzywuzzy"
   ]
  },
  {
   "cell_type": "code",
   "execution_count": 16,
   "metadata": {},
   "outputs": [
    {
     "name": "stdout",
     "output_type": "stream",
     "text": [
      "[('asian', 100), ('Asian', 100), ('italian', 67), ('American', 62), ('italia', 55), ('america', 50)]\n",
      "[('American', 100), ('america', 93), ('asian', 62), ('Asian', 62), ('italian', 53), ('italia', 43)]\n",
      "[('italian', 100), ('italia', 92), ('asian', 67), ('Asian', 67), ('American', 40), ('america', 29)]\n"
     ]
    }
   ],
   "source": [
    "# Import process from fuzzywuzzy\n",
    "from fuzzywuzzy import process\n",
    "# https://towardsdatascience.com/string-matching-with-fuzzywuzzy-e982c61f8a84\n",
    "    \n",
    "restaurants = pd.DataFrame({'asian', 'Asian', 'American', 'america', 'italian', 'italia'}, columns = ['cuisine_type'])\n",
    "\n",
    "# Store the unique values of cuisine_type in unique_types\n",
    "unique_types = restaurants['cuisine_type'].unique()\n",
    "# Calculate similarity of 'asian' to all values of unique_types\n",
    "print(process.extract('asian', unique_types, limit = len(unique_types)))\n",
    "# Calculate similarity of 'american' to all values of unique_types\n",
    "print(process.extract('american', unique_types, limit = len(unique_types)))\n",
    "# Calculate similarity of 'italian' to all values of unique_types\n",
    "print(process.extract('italian', unique_types, limit = len(unique_types)))"
   ]
  },
  {
   "cell_type": "code",
   "execution_count": 17,
   "metadata": {},
   "outputs": [],
   "source": [
    "# Create a list of matches, comparing 'italian' with the cuisine_type column\n",
    "matches = process.extract('italian', restaurants['cuisine_type'], limit=len(restaurants.cuisine_type))\n",
    "\n",
    "# Iterate through the list of matches to italian\n",
    "for match in matches:\n",
    "  # Check whether the similarity score is greater than or equal to 80\n",
    "  if match[1] >=80:\n",
    "    # Select all rows where the cuisine_type is spelled this way, and set them to the correct cuisine\n",
    "    restaurants.loc[restaurants['cuisine_type'] == match[0], 'cuisine_type'] = 'italian'\n",
    "    \n",
    "# Iterate through categories\n",
    "for cuisine in categories:  \n",
    "  # Create a list of matches, comparing cuisine with the cuisine_type column\n",
    "  matches = process.extract(cuisine, restaurants['cuisine_type'], limit=len(restaurants.cuisine_type))\n",
    "  # Iterate through the list of matches\n",
    "  for match in matches:\n",
    "     # Check whether the similarity score is greater than or equal to 80\n",
    "    if match[1] >= 80:\n",
    "      # If it is, select all rows where the cuisine_type is spelled this way, and set them to the correct cuisine\n",
    "      restaurants.loc[restaurants['cuisine_type'] == match[0]] = cuisine\n",
    "# Inspect the final result\n",
    "print(restaurants['cuisine_type'].unique())"
   ]
  }
 ],
 "metadata": {
  "kernelspec": {
   "display_name": "Python 3",
   "language": "python",
   "name": "python3"
  },
  "language_info": {
   "codemirror_mode": {
    "name": "ipython",
    "version": 3
   },
   "file_extension": ".py",
   "mimetype": "text/x-python",
   "name": "python",
   "nbconvert_exporter": "python",
   "pygments_lexer": "ipython3",
   "version": "3.7.3"
  }
 },
 "nbformat": 4,
 "nbformat_minor": 2
}
